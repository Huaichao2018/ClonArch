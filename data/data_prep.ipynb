{
 "cells": [
  {
   "cell_type": "code",
   "execution_count": 1,
   "metadata": {},
   "outputs": [],
   "source": [
    "import numpy as np\n",
    "import pandas\n",
    "import matplotlib.pyplot as plt\n",
    "#from gurobipy import *"
   ]
  },
  {
   "cell_type": "markdown",
   "metadata": {},
   "source": [
    "### Read in Excel data\n",
    "Data preprocessing:\n",
    "* Reset row names to \"Site\"\n",
    "* Drop columns where mutation is on ChrX or ChrY \n",
    "* Remove starred sample names (but retain them in a seperate array named `stars`)"
   ]
  },
  {
   "cell_type": "code",
   "execution_count": 2,
   "metadata": {},
   "outputs": [],
   "source": [
    "pnas = pandas.ExcelFile(\"pnas.1519556112.xlsx\")\n",
    "S3 = pnas.parse('s3_fill')\n",
    "S3 = S3.set_index('Site')\n",
    "\n",
    "for col in S3: \n",
    "    if \"chrX\" in col or \"chrY\" in col:\n",
    "        S3 = S3.drop(col, axis=1)\n",
    "\n",
    "stars = []\n",
    "for site in S3.index:\n",
    "    if '*' in site:\n",
    "        stars.append(site)\n",
    "        S3.rename({site: site.replace(\"*\", \"\")}, inplace = True) \n",
    "\n",
    "\n",
    "# stars = np.array(['D9*', 'B17*', 'B19*', 'B20*', 'Z1*', 'A3*', 'C78*' ,'D6*'])\n"
   ]
  },
  {
   "cell_type": "markdown",
   "metadata": {},
   "source": [
    "### Get coordinates from tumor map \n",
    "* Manually overlayed a `43 x 41` grid on the tumor map \n",
    "* Map coordinates from grid to dictionary "
   ]
  },
  {
   "cell_type": "code",
   "execution_count": 3,
   "metadata": {},
   "outputs": [],
   "source": [
    "coordinates = {\n",
    "    \"A68\": [(15,0)],\n",
    "     \"A2\": [(19,0), (20,0)],\n",
    "    \"A58\": [(17,1)],\n",
    "    \"A67\": [(13,1), (13,2)],\n",
    "    \"A57\": [(15, 2), (16, 2)],\n",
    "    \"A47\": [(18, 3), (19, 3)],\n",
    "    \"A48\": [(20, 2), (20, 3)],\n",
    "    \"A70\": [(4,3), (5,3), (4,4), (5,4)],\n",
    "    \"A69\": [(7,4)],\n",
    "    \"A66\": [(10, 3), (10, 4), (11, 3), (11, 4)],\n",
    "    \"A56\": [(13, 4)],\n",
    "    \"A65\": [(8, 5), (9, 5)],\n",
    "    \"A55\": [(11, 5), (12, 5)],\n",
    "    \"A46\": [(17, 4), (17, 5)],\n",
    "    \"A38\": [(19, 5), (19, 6), (20, 5), (20, 6)],\n",
    "    \"A45\": [(14, 6), (15, 6)],\n",
    "    \"A37\": [(17, 6), (17, 7), (18, 6), (18, 7)],\n",
    "    \"A29\": [(19, 7), (19, 8), (20, 7), (20, 8)],\n",
    "    \"A64\": [(7, 7)],\n",
    "    \"A54\": [(10, 7)],\n",
    "    \"A36\": [(16, 8)],\n",
    "    \"A28\": [(18, 9)],\n",
    "    \"A63\": [(6,9)],\n",
    "    \"A53\": [(9,9), (9, 10)],\n",
    "    \"A44\": [(11, 10)],\n",
    "    \"A35\": [(14, 10), (15, 10)],\n",
    "    \"A27\": [(16, 10), (17, 10)],\n",
    "    \"A22\": [(19, 10), (20, 10)],\n",
    "    \n",
    "    \"A62\": [(5, 11)],\n",
    "    \"A52\": [(7,11), (7,12)],\n",
    "    \"A43\": [(9, 11), (10, 11)],\n",
    "    \"A34\": [(13,11)],\n",
    "    \"A21\": [(18,11)],\n",
    "    \"A26\": [(15,12)],\n",
    "    \"A20\": [(16,12),(16,13),(17,12),(17,13)],\n",
    "    \"A61\": [(4,13),(5,13)],\n",
    "    \"A42\": [(8,13)],\n",
    "    \"A33\": [(11,12), (11,13)],\n",
    "    \"A25\": [(13,13),(14,13)],\n",
    "    \"A51\": [(6,14)],\n",
    "    \"A32\": [(10,14)],\n",
    "    \"A60\": [(3,15),(4,15)],\n",
    "    \"A41\": [(8,15)],\n",
    "    \"A24\": [(12,15),(13,15)],\n",
    "    \"A19\": [(15,14),(15,15)],\n",
    "    \"A13\": [ (17,15)],\n",
    "    \"A14\": [(18,13),(18,14)],\n",
    "    \"A15\": [(19,12),(19,13)],\n",
    "     \"A9\": [(19,14), (19,15)],\n",
    "    \"A50\": [ (5,16),(5,17)],\n",
    "    \"A31\": [(9,16)],\n",
    "    \"A18\": [(13,16),(14,16)],\n",
    "    \"A12\": [(16,16)],\n",
    "     \"A8\": [(18,16)],\n",
    "     \"A5\": [(20,15),(20,16)],\n",
    "    \"A59\": [(3,17),(4,17)],\n",
    "    \"A40\": [(6,17),(6,18),(7,17),(7,18)],\n",
    "    \"A23\": [(11,17)],\n",
    "    \"A17\": [(13,27), (13, 18)],\n",
    "    \"A11\": [(15,17)],\n",
    "     \"A7\": [(17,17)],\n",
    "     \"A4\": [(19,17)],\n",
    "     \"A1\": [(3,19), (3, 20)],\n",
    "    \"A49\": [(4, 18), (4, 19)],\n",
    "    \"A39\": [(6, 19)],\n",
    "    \"A30\": [(8,18), (8,19)],\n",
    "    \n",
    "    \"D55\": [(3,22), (3,23)],\n",
    "    \"D43\": [(4,23)],\n",
    "    \"D33\": [(6,22), (6,23)],\n",
    "    \"D24\": [(8,22),(8,23),(9,22),(9,23)],\n",
    "    \"D18\": [(11,22),(11,23)],\n",
    "    \"D13\": [(13,22)],\n",
    "     \"D9\": [(16,21)],\n",
    "     \"D8\": [(17,22), (17,23)],\n",
    "    \"D54\": [(3,25),(4, 25)],\n",
    "    \"D42\": [(5,25),(6,25)],\n",
    "    \"D32\": [(7,24),(8,24)],\n",
    "    \"D12\": [(15,24),(16,24)],\n",
    "     \"D7\": [(19,24)],\n",
    "    \"D53\": [(5,26)],\n",
    "    \"D41\": [(7,26)],\n",
    "    \"D31\": [(8,25),(8,26),(9,25),(9,26)],\n",
    "    \"D23\": [(11,25)],\n",
    "    \"D17\": [(13,25),(14,25)],\n",
    "    \"D53\": [(5,26)],\n",
    "     \"D6_\": [(3,27), (3, 28),(4,27),(4,28)],\n",
    "    \"D30\": [(10,27)],\n",
    "    \"D22\": [(12,26)],\n",
    "    \"D16\": [(15,26),(15,27),(16,26),(16,27)],\n",
    "    \"D10\": [(19,27),(20,27)],\n",
    "    \"D11\": [(17,25),(17,26),(18,25),(18,26)],\n",
    "    \"D52\": [(5,28),(6,28),(6,29)],\n",
    "    \"D40\": [(8,28),(9,28)],\n",
    "    \"D29\": [(12,28)],\n",
    "     \"D2\": [(13,27),(13,28)],\n",
    "     \"D1\": [(15,28)],\n",
    "    \"D15\": [(18,28)],\n",
    "     \"D5\": [(4,29)],\n",
    "    \"D51\": [(7,29),(7,30)],\n",
    "    \"D39\": [(10,29),(10,30),(11,29),(11,30)],\n",
    "    \"D28\": [(13,29),(13,30),(14,29),(14,30)],\n",
    "    \"D21\": [(16,29)],\n",
    "    \"D14\": [(20,29)],\n",
    "    \n",
    "    # updated D6 manually because it was a repeat of D62\n",
    "    \"D6\": [(4, 30), (5, 30)], \n",
    "    \"D50\": [(9,31)],\n",
    "    \"D38\": [(12,31)],\n",
    "    \"D27\": [(15,30),(15,31),(16,30),(16,31)],\n",
    "    \"D20\": [(18,30)],\n",
    "    \"D19\": [(19,31),(20,30),(20,31)],\n",
    "    \"D62\": [(4,32),(5,32)],\n",
    "    \"D67\": [(7,31),(7,32)],\n",
    "    \"D49\": [(10,32),(10,33),(11,32),(11,33)],\n",
    "    \"D37\": [(14,32)],\n",
    "    \"D26\": [(17,32)],\n",
    "    \"D61\": [(6,33),(6,34)],\n",
    "    \"D66\": [(8,33),(9,33)],\n",
    "    \"D46\": [],\n",
    "    \"D36\": [(15,33),(15,34),(15,33),(16,34)],\n",
    "    \"D25\": [(20,33),(21,33)],\n",
    "    \"D60\": [(8,35)],\n",
    "    \"D65\": [(10,34)],\n",
    "    \"D48\": [(12,34),(13,34)],\n",
    "    \"D47\": [(14,35)],\n",
    "    \"D35\": [(17,34),(18,34)],\n",
    "    \"D59\": [(10,36)],\n",
    "    \"D46\": [(16,36)],\n",
    "     \"D4\": [(11,36), (11, 37), (12, 36), (12, 37)],\n",
    "    \"D64\": [(12, 35)],\n",
    "    \"D45\": [(18,36),(18,37)],\n",
    "    \"D44\": [(20,37)],\n",
    "    \"D34\": [(20,35)],\n",
    "     \"D3\": [(13,37),(13,38),(14,37),(14,28)],\n",
    "    \"D58\": [(15,38),(15,39)],\n",
    "    \"D57\": [(17,38),(17,39), (18,38),(18,39)],\n",
    "    \"D56\": [(19,39),(19,40),(20,39),(20,40)],   \n",
    "    \n",
    "    \n",
    "     \"B3\": [(27,1)],\n",
    "    \"B83\": [(25,1),(25,2)],\n",
    "     \"B4\": [(29,2)],\n",
    "    \"B55\": [(24,3)],\n",
    "    \"B56\": [(26,3),(26,4)],\n",
    "    \"B64\": [(27,3),(28,3)],\n",
    "    \"B65\": [(29,3),(29,4),(30,3),(30,4)],\n",
    "    \"B48\": [(23,5),(24,5)],\n",
    "    \"B57\": [(27,5),(28,5)],\n",
    "    \"B58\": [(30,6)],\n",
    "    \"B47\": [(25,5),(25,6),(26,5),(26,6)],\n",
    "    \"B66\": [(31,4),(31,5)],\n",
    "    \"B67\": [(32,6),(33,6)],\n",
    "    \"B37\": [(23,7)],\n",
    "    \"B48_\": [(27,7)],\n",
    "    \"B69\": [(35,6),(35,7)],\n",
    "    \"B68\": [(24,7)],\n",
    "    \"B38\": [(25,8),(26,8)],\n",
    "    \"B49\": [(29,8)],\n",
    "    \"B59\": [(32,7),(31,8),(32,7)],\n",
    "    \"B32\": [(23,9)],\n",
    "    \"B39\": [(27,9)],\n",
    "    \"B50\": [(31,9)],\n",
    "    \"B60\": [(33,9),(34,9)],\n",
    "     \"B5\": [(35,8),(36,8),(35,9),(36,9)],\n",
    "    \"B33\": [(25,9),(25,10)],\n",
    "     \"B6\": [(36,10),(37,10)],\n",
    "    \"B40\": [(29,10)],\n",
    "    \n",
    "    \n",
    "    \"B26\": [(23,10),(23,11)],\n",
    "    \"A16\": [(21,11)],\n",
    "     \"B7\": [(26,11),(27,11)],\n",
    "    \"B51\": [(32,10),(32,11)],\n",
    "    \"B61\": [(35,10),(35,11)],\n",
    "    \"B27\": [(25,11),(25,12)],\n",
    "     \"B8\": [(28,11),(28,12)],\n",
    "    \"B41\": [(30,11),(30,12),(31,11),(31,12)],\n",
    "    \"B62\": [(37,11),(37,12)],\n",
    "    \"B20\": [(23,12),(23,13),(24,12),(24,13)],\n",
    "    \"B28\": [(26,12),(26,13)],\n",
    "    \"B52\": [(34,12),(35,12)],\n",
    "     \"B9\": [(29,13),(30,13)],\n",
    "    \"A10\": [(21,13),(21,14)],\n",
    "     \"B1\": [(27,13),(28,13)],\n",
    "    \"B21\": [(25,13),(25,14)],\n",
    "    \"B10\": [(30,14)],\n",
    "     \"B2\": [(28,14),(29,14)],\n",
    "    \"B42\": [(32,13),(33,13)],\n",
    "    \"B53\": [(36,13),(36,14)],\n",
    "    \"B15\": [(23,14)],\n",
    "    \"B22\": [(26,14),(26,15),(27,14),(27,15)],\n",
    "    \"B34\": [(14,31),(15,31)],\n",
    "    \"B43\": [(34,14)],\n",
    "    \"B54\": [(38,14)],\n",
    "     \"A6\": [(21,15),(22,15)],\n",
    "    \"B16\": [(24,15),(25,15)],\n",
    "    \"B17\": [(26,16)],\n",
    "    \"B23\": [(28,15),(27,16),(28,16)],\n",
    "    \"B29\": [(29,15),(30,15)],\n",
    "    \"B35\": [(33,16)],\n",
    "    \"B44\": [(36,16)],\n",
    "     \"A3\": [(21,16),(21,17)],\n",
    "    \"B12\": [(23,16),(23,17)],\n",
    "    \"B13\": [(24,17),(25,17)],\n",
    "    \"B18\": [(27,17)],\n",
    "    \"B24\": [(29,16),(29,17)],\n",
    "    \"B30\": [(30,16),(31,17),(31,16)],\n",
    "    \"B36\": [(34,17),(35,17)],\n",
    "    \"B45\": [(37,17),(38,17),(37,18)],\n",
    "    \"B31\": [(32,17),(32,18)],\n",
    "    \"B11\": [(24,18)],\n",
    "    \"B14\": [(26,18)],\n",
    "    \"B19\": [(28,18)],\n",
    "    \"B25\": [(30,18)],\n",
    "     \"Z1\": [(21,19),(22,19),(21,20),(22,20)],\n",
    "    \n",
    "    \"C82\": [(24,21)],\n",
    "    \"C85\": [(26,21)],\n",
    "    \"C89\": [(29,21),(30,21)],\n",
    "     \"C4\": [(32,21)],\n",
    "     \"C9\": [(34,21),(35,21)],\n",
    "    \"C17\": [(36,21),(36,22)],\n",
    "     \"C1\": [(41,21),(41,22)],\n",
    "    \"C86\": [(26,22)],\n",
    "     \"C5\": [(31,22),(31,23)],\n",
    "    \"C10\": [(33,22),(33,23),(34,22),(34,23)],\n",
    "    \"C28\": [(38,22),(38,23)],\n",
    "    \"C83\": [(24,23)],\n",
    "    \"C90\": [(28,23),(28,24), (29,23), (29,24)],\n",
    "    \"C18\": [(35,23),(35,24),(36,23)],\n",
    "    \"C27\": [(37,24)],\n",
    "    \"C37\": [(39,23),(40,23)],\n",
    "    \"C48\": [(42,23)],\n",
    "    \"C11\": [(33,24)],\n",
    "    \"C84\": [(23,25),(24,25)],\n",
    "    \"C87\": [(25,25),(26,25)],\n",
    "    \"C19\": [(34,25)],\n",
    "    \"C38\": [(38,25),(39,25)],\n",
    "    \"C49\": [(40,25),(41,25)],\n",
    "    \"C80\": [(42,25), (43,25)],\n",
    "    \"C28\": [(36,25),(36,26)],\n",
    "     \"C6\": [(29,25),(29,26)],\n",
    "    \"C88\": [(24,27)],\n",
    "     \"C3\": [(27,26),(27,27)],\n",
    "    \"C12\": [(30,27),(31,26),(31,27)],\n",
    "    \"C29\": [(35,27)],\n",
    "    \"C39\": [(37,26), (37,27)],\n",
    "    \"C50\": [(39,26), (39,27), (40,26), (40,27)],\n",
    "    \"C51\": [(38,28),(38,29),(39,28),(39,29)],\n",
    "     \"C7\": [(26,28)],\n",
    "    \"C13\": [(29,28)],\n",
    "    \"C20\": [(31,28),(32,28)],\n",
    "    \"C30\": [(34,28), (34,29)],\n",
    "    \"C40\": [(36,28),(36,29)],\n",
    "    \"C62\": [(40,28),(40,29)],\n",
    "    \"C72\": [(42,28),(42,29)],\n",
    "     \"C8\": [(24,29),(24,30)],\n",
    "    \"C14\": [(27,29)],\n",
    "    \"C21\": [(30,29)],\n",
    "    \"C31\": [(32,29), (32,30),(33,29), (33,30)],\n",
    "    \"C41\": [(35,30)],\n",
    "    \"C61\": [(41,27)],\n",
    "    \n",
    "    \"C52\": [(37,30)],\n",
    "    \"C15\": [(26,30),(26,31)],\n",
    "    \"C22\": [(28,30),(28,31),(29,30),(29,31)],\n",
    "    \"C63\": [(38,30),(38,31),(39,30),(39,31)],\n",
    "    \"C73\": [(40,30),(40,31),(41,30),(41,31)],\n",
    "    \"C32\": [(31,31)],\n",
    "    \"C42\": [(33,31),(33,32)],\n",
    "    \"C23\": [(27,31),(27,32)],\n",
    "    \"C53\": [(35,31),(35,32)],\n",
    "    \"C16\": [(24,32)],\n",
    "    \"C24\": [(26,32),(26,33)],\n",
    "    \"C33\": [(29,32)],\n",
    "    \"C64\": [(37,32)],\n",
    "    \"C74\": [(39,32),(40,32)],\n",
    "    \"C43\": [(31,33)],\n",
    "    \"C34\": [(28,33)],\n",
    "    \"C54\": [(33,33),(34,33)],\n",
    "    \"C65\": [(36,33),(36,34)],\n",
    "    \"C25\": [(24,34),(25,34)],\n",
    "    \"C44\": [(29,34),(30,34)],\n",
    "    \"C35\": [(26,34)],\n",
    "    \"C75\": [(37,34),(38,34)],\n",
    "    \"C45\": [(28,35)],\n",
    "    \"C55\": [(31,34),(31,35),(32, 34),(32,35)],\n",
    "    \"C68\": [(35,35)],\n",
    "    \"C36\": [(24,35), (24,36), (25,35), (25,36)],\n",
    "    \"C56\": [(30,35),(30,36)],\n",
    "    \"C67\": [(33,36)],\n",
    "    \"C76\": [(36,35),(36,36)],\n",
    "    \"C46\": [(26,36),(27,36)],\n",
    "    \"C47\": [(24,37),(25,37)],\n",
    "    \"C57\": [(28,36),(28,37)],\n",
    "    \"C68\": [(31,37)],\n",
    "    \"C77\": [(34,36),(34,37),(35,36),(35,37)],\n",
    "    \"C58\": [(26,38),(27,38)],\n",
    "    \"C69\": [(29,38)],\n",
    "    \"C78\": [(33,37),(33,38)],\n",
    "    \"C59\": [(25,38),(25,39)],\n",
    "    \"C79\": [(31,38),(31,39)],\n",
    "    \"C70\": [(27,39)],\n",
    "    \"C80\": [(29,39)],\n",
    "    \"C71\": [(25,40),(26,40)],\n",
    "    \"C81\": [(27,39),(27,40)],\n",
    "     \"C2\": [(25,41)]\n",
    "}"
   ]
  },
  {
   "cell_type": "markdown",
   "metadata": {},
   "source": [
    "### Read in samples from excel sheet \n",
    "\n",
    "* `sites` = sites where biopsies were performed; take away the two header values \n",
    "* `samples` = sites that are present in both the excel and mapped value "
   ]
  },
  {
   "cell_type": "code",
   "execution_count": 4,
   "metadata": {},
   "outputs": [],
   "source": [
    "sites = list(S3.index)[2:]"
   ]
  },
  {
   "cell_type": "code",
   "execution_count": 5,
   "metadata": {},
   "outputs": [
    {
     "name": "stdout",
     "output_type": "stream",
     "text": [
      "These values are not found in excel sheet: \n",
      "A55\n",
      "A54\n",
      "A18\n",
      "D6_\n",
      "B83\n",
      "B48_\n",
      "B28\n",
      "B1\n",
      "C89\n",
      "C83\n",
      "C90\n",
      "C88\n",
      "C22\n",
      "C32\n",
      "\n",
      "\n",
      "These values are not found in the map:\n",
      "B46\n",
      "B63\n",
      "C66\n",
      "Z2\n",
      "D63\n",
      "C26\n",
      "Normal\n",
      "C60(Normal)\n"
     ]
    }
   ],
   "source": [
    "# samples are present in both the tumor map and the excel sheet s3\n",
    "samples = []\n",
    "\n",
    "print(\"These values are not found in excel sheet: \")\n",
    "for key in coordinates:\n",
    "    if key in sites and key not in samples:\n",
    "        samples.append(key)\n",
    "    else:\n",
    "        # found on map but NOT in excel sheet!! \n",
    "        print(key)\n",
    "\n",
    "\n",
    "# map row index to corresponding sample\n",
    "samplesIdx = {}\n",
    "for i in range(len(samples)):\n",
    "    samplesIdx[i] = samples[i]\n",
    "\n",
    "print(\"\\n\\nThese values are not found in the map:\") \n",
    "for key in sites: \n",
    "    if key not in samples:\n",
    "        print(key)"
   ]
  },
  {
   "cell_type": "code",
   "execution_count": 6,
   "metadata": {},
   "outputs": [
    {
     "data": {
      "text/plain": [
       "280"
      ]
     },
     "execution_count": 6,
     "metadata": {},
     "output_type": "execute_result"
    }
   ],
   "source": [
    "len(samples)"
   ]
  },
  {
   "cell_type": "markdown",
   "metadata": {},
   "source": [
    "### Read in mutation frequencies \n"
   ]
  },
  {
   "cell_type": "code",
   "execution_count": 7,
   "metadata": {},
   "outputs": [],
   "source": [
    "mutations = S3.columns"
   ]
  },
  {
   "cell_type": "code",
   "execution_count": 8,
   "metadata": {},
   "outputs": [],
   "source": [
    "# map mutation to column in matrix F\n",
    "mutCol = {}\n",
    "idx = 0\n",
    "for mut in mutations:\n",
    "    mutCol[mut] = idx\n",
    "    idx+=1\n",
    "\n",
    "# Give each mutation locus an index \n",
    "revMutCol = {}\n",
    "idx = 0\n",
    "for key in mutCol:\n",
    "    revMutCol[idx] = key\n",
    "    idx+=1 "
   ]
  },
  {
   "cell_type": "markdown",
   "metadata": {},
   "source": [
    "### Fill in grid \n",
    "\n",
    "* Helper functions used to determine corners of grid, making those values 0"
   ]
  },
  {
   "cell_type": "code",
   "execution_count": 9,
   "metadata": {},
   "outputs": [],
   "source": [
    "def isInCircle(x,y): \n",
    "    # center is (22, 20)\n",
    "    radius = 22\n",
    "    dist = np.sqrt((y - (20+1))**2 + (x - (22+1) )**2 )\n",
    "    return dist < radius"
   ]
  },
  {
   "cell_type": "code",
   "execution_count": 10,
   "metadata": {},
   "outputs": [],
   "source": [
    "# 43 columns \n",
    "# 41 rows \n",
    "\n",
    "nRows = 41 +1\n",
    "nCols = 43 +1\n",
    "\n",
    "f = np.full((nRows*nCols,len(mutations)), np.nan)\n",
    "blank = ['-', 'P', 'F']"
   ]
  },
  {
   "cell_type": "markdown",
   "metadata": {},
   "source": [
    "### Fill in Matrix F \n",
    "\n",
    "This method does NOT interpolate. Here, we only fill the empty grid with values from the PNAS spreadsheet, where they exist. \n",
    "* Values outside of clone regions that are in `-,F,P` will be marked as 0 \n",
    "* Values outside of the circular region of the grid will be marked as 0\n",
    "* All other values are marked as NaN for interpolation later"
   ]
  },
  {
   "cell_type": "code",
   "execution_count": 11,
   "metadata": {},
   "outputs": [
    {
     "name": "stdout",
     "output_type": "stream",
     "text": [
      "Calculating mutation chr16_21698785\n",
      "Calculating mutation chr16_69988362\n",
      "Calculating mutation chr2_170031901\n",
      "Calculating mutation chr3_58155491\n",
      "Calculating mutation chr10_101969461\n",
      "Calculating mutation chr11_118375433\n",
      "Calculating mutation chr8_8998522\n",
      "Calculating mutation chr21_46306293\n",
      "Calculating mutation chr8_104897577\n",
      "Calculating mutation chr17_42882927\n",
      "Calculating mutation chr19_13563795\n",
      "Calculating mutation chr3_47951371\n",
      "Calculating mutation chr15_90145059\n",
      "Calculating mutation chr9_5090748\n",
      "Calculating mutation chr18_11851559\n",
      "Calculating mutation chr17_42824879\n",
      "Calculating mutation chr7_45122631\n",
      "Calculating mutation chr7_158829499\n",
      "Calculating mutation chr12_6427505\n",
      "Calculating mutation chr19_9075018\n",
      "Calculating mutation chr2_76976008\n",
      "Calculating mutation chr7_99227274\n",
      "Calculating mutation chr3_32746404\n",
      "Calculating mutation chr7_645878\n",
      "Calculating mutation chr17_38240142\n",
      "Calculating mutation chr9_123629149\n",
      "Calculating mutation chr7_72913004\n",
      "Calculating mutation chr6_108370471\n",
      "Calculating mutation chr7_44192950\n",
      "Calculating mutation chr18_46190149\n",
      "Calculating mutation chr5_161324267\n",
      "Calculating mutation chr12_9248193\n"
     ]
    }
   ],
   "source": [
    "for mut in mutations: \n",
    "    print(\"Calculating mutation \" + mut)\n",
    "    grid = np.full((nRows,nCols), np.nan)\n",
    "    # fill square - circle with 0's for interpolation\n",
    "    for row in range(0, len(grid)):\n",
    "        for col in range(0,len(grid[0])):\n",
    "            if(not isInCircle(col,row)):\n",
    "                grid[row][col] = 0.0\n",
    "\n",
    "    grid[0:5,2:10] = np.nan\n",
    "    \n",
    "    # create grid from coordinates \n",
    "    for site in samples:\n",
    "        coords = coordinates[site]\n",
    "        for pair in coords:\n",
    "            x = pair[0]\n",
    "            y = pair[1]\n",
    "            if(S3[mut][site] in blank):\n",
    "                grid[y][x] = 0\n",
    "            else:\n",
    "                grid[y][x] = float(S3[mut][site])\n",
    "                \n",
    "    # Pad the borders with 0 for interpolation\n",
    "    grid = np.insert(grid, 0, values=np.zeros(nCols), axis=0)\n",
    "    grid = np.insert(grid, len(grid), values = np.zeros(nCols), axis=0)\n",
    "    grid = np.insert(grid, 0, values = np.zeros(nRows+2), axis=1)\n",
    "    grid = np.insert(grid, len(grid[0]), values = np.zeros(nRows+2), axis=1)\n",
    "    df = pandas.DataFrame(grid)\n",
    "    \n",
    "#     row = df.interpolate(method='linear', limit_direction='both', axis=1)\n",
    "#     col = df.interpolate(method='linear', limit_direction='both', axis=0)\n",
    "#     avg = (row + col) / 2\n",
    "    \n",
    "    interpolated = df\n",
    "\n",
    "    # ROW-MAJOR \n",
    "    # add excluding the 0 borders \n",
    "    for row in range(1, len(interpolated)-1):\n",
    "        for col in range(1, len(interpolated[0])-1):\n",
    "            rowIdx = (col-1) + ((row-1)*(nCols))\n",
    "#             print(row, col, rowIdx, mutCol[mut], mut,interpolated[row][col])\n",
    "            f[rowIdx][mutCol[mut]] = interpolated[row][col]"
   ]
  },
  {
   "cell_type": "code",
   "execution_count": 12,
   "metadata": {},
   "outputs": [],
   "source": [
    "df=pandas.DataFrame(f)"
   ]
  },
  {
   "cell_type": "markdown",
   "metadata": {},
   "source": [
    "## Name samples"
   ]
  },
  {
   "cell_type": "code",
   "execution_count": 13,
   "metadata": {},
   "outputs": [
    {
     "name": "stdout",
     "output_type": "stream",
     "text": [
      "42 23 1871 C48\n",
      "42 28 1876 C72\n",
      "42 29 1877 C72\n"
     ]
    }
   ],
   "source": [
    "# for row in range(len(f)):\n",
    "#     for col in range(len(f[0])):\n",
    "#         if f[row][col] == 'nan':\n",
    "#             print(str(row) + \" \" + str(col))\n",
    "\n",
    "# rename columns \n",
    "for col in df.columns:\n",
    "    df = df.rename(columns={col: revMutCol[col]})\n",
    "\n",
    "#rename rows\n",
    "rowNames = np.full((nRows*nCols), \"Interpolated\")\n",
    "\n",
    "for site in samples:\n",
    "    coords = coordinates[site]\n",
    "    for pair in coords:\n",
    "        x = pair[0]\n",
    "        y = pair[1]\n",
    "        rowIdx = ((x)*nCols + (y))\n",
    "        try:\n",
    "            rowNames[rowIdx] = site\n",
    "        except:\n",
    "            print(x,y,rowIdx,site)\n",
    "\n",
    "rowNames.shape\n",
    "np.set_printoptions(threshold=np.nan)\n",
    "rowNames\n",
    "\n",
    "for row in df.index:\n",
    "    if rowNames[row] != \"None\":\n",
    "        df = df.rename(index={row: rowNames[row]})"
   ]
  },
  {
   "cell_type": "code",
   "execution_count": 14,
   "metadata": {},
   "outputs": [
    {
     "data": {
      "text/plain": [
       "A2    0.528986\n",
       "A2    0.528986\n",
       "Name: chr11_118375433, dtype: float64"
      ]
     },
     "execution_count": 14,
     "metadata": {},
     "output_type": "execute_result"
    }
   ],
   "source": [
    "# Sanity check: does the DF actually contain values we would expect? \n",
    "\n",
    "# MLL (chr11_118375433) @ A2 should be: 0.528986\n",
    "df['chr11_118375433']['A2']"
   ]
  },
  {
   "cell_type": "markdown",
   "metadata": {},
   "source": [
    "## SNVs to exclude:\n",
    "\n",
    "* Criterion: at least one sample with VAF > 0.6\n",
    "\n",
    "All other SNVs with VAFs > 0.5 will be clipped to 0.5. Then, we multiply values by 2 to get cancer cell fractions"
   ]
  },
  {
   "cell_type": "code",
   "execution_count": 15,
   "metadata": {},
   "outputs": [
    {
     "name": "stdout",
     "output_type": "stream",
     "text": [
      "chr16_21698785 0.793417 35\n",
      "chr16_69988362 0.84691 4\n",
      "chr17_42882927 0.617388 2\n",
      "chr18_11851559 0.608778 2\n",
      "chr12_6427505 0.865647 2\n",
      "chr6_108370471 0.681733 10\n"
     ]
    }
   ],
   "source": [
    "retained_samples = set(df.columns)\n",
    "removed_samples = []\n",
    "for col in df.columns:\n",
    "    max_val = df[col].max()\n",
    "    if max_val > 0.6:\n",
    "        print(col, max_val, len(df[df[col] > 0.6]))\n",
    "        retained_samples.remove(col)\n",
    "        removed_samples.append(col)\n",
    "\n",
    "df = df[retained_samples]\n",
    "\n",
    "# make sure maximum is 0.5 (clip)\n",
    "df = df.clip(lower=None, upper=0.5)\n",
    "\n",
    "# multiply by 2 to get cancer cell fractions\n",
    "df = df * 2\n",
    "\n",
    "df.to_csv('matrixF-processed-locus.csv', index=True, sep=',', header=True)"
   ]
  },
  {
   "cell_type": "code",
   "execution_count": 16,
   "metadata": {},
   "outputs": [
    {
     "name": "stdout",
     "output_type": "stream",
     "text": [
      "Removed samples:\n",
      "OTOA\n",
      "CLEC18A\n",
      "GJC1\n",
      "CHMP1B\n",
      "PLEKHG6\n",
      "OSTM1\n",
      "\n",
      "HEPH\n",
      "ZMAT1\n",
      "MSN\n"
     ]
    }
   ],
   "source": [
    "#removed_samples = ['chr16_21698785', 'chr16_69988362', 'chr17_42882927', 'chr18_11851559', 'chr12_6427505' , 'chr6_108370471']\n",
    "print(\"Removed samples:\")\n",
    "for locus in removed_samples:\n",
    "    print(S3[locus]['Gene'])\n",
    "sex_chromosomes = ['HEPH', 'ZMAT1', 'MSN']\n",
    "print()\n",
    "for gene in sex_chromosomes:\n",
    "    print(gene)"
   ]
  },
  {
   "cell_type": "code",
   "execution_count": 17,
   "metadata": {},
   "outputs": [],
   "source": [
    "len(retained_samples)\n",
    "locusToGene = {}\n",
    "for locus in retained_samples: \n",
    "    locusToGene[locus] = S3[locus]['Gene']\n",
    "# rename columns \n",
    "for col in df.columns:\n",
    "    df = df.rename(columns={col: locusToGene[col]})\n",
    "#df.to_csv('matrixF-processed-gene.csv', index=True, sep=',', header=True)"
   ]
  },
  {
   "cell_type": "markdown",
   "metadata": {},
   "source": [
    "### Adding fixed mutations \n",
    "* The fixed mutations will be set to the max of each row \n",
    "* There are 206 unique fixed (trunk) mutations \n",
    "* 3 trunk mutations were repeated in the original PNAS data (under fixed mutations)"
   ]
  },
  {
   "cell_type": "code",
   "execution_count": 18,
   "metadata": {},
   "outputs": [],
   "source": [
    "S2 = pnas.parse('s2')"
   ]
  },
  {
   "cell_type": "code",
   "execution_count": 19,
   "metadata": {},
   "outputs": [
    {
     "name": "stdout",
     "output_type": "stream",
     "text": [
      "Repeated trunk mutations: \n",
      "ODZ3\n",
      "CDH26\n",
      "HYDIN\n",
      "Number of trunk mutations:  206\n"
     ]
    }
   ],
   "source": [
    "# Check for overlaps between trunk mutations \n",
    "fixedMutations = []\n",
    "print(\"Repeated trunk mutations: \")\n",
    "for trunk in S2['Gene']:\n",
    "    if trunk not in fixedMutations:\n",
    "        fixedMutations.append(trunk)\n",
    "    else: \n",
    "        print(trunk)\n",
    "print(\"Number of trunk mutations: \", str(len(fixedMutations)))\n",
    "\n",
    "for trunk in fixedMutations:\n",
    "    for mut in retained_samples:\n",
    "        if trunk == locusToGene[mut]:\n",
    "            print(trunk)\n"
   ]
  },
  {
   "cell_type": "code",
   "execution_count": 20,
   "metadata": {},
   "outputs": [
    {
     "data": {
      "text/plain": [
       "(1848, 232)"
      ]
     },
     "execution_count": 20,
     "metadata": {},
     "output_type": "execute_result"
    }
   ],
   "source": [
    "# get max of each row \n",
    "row_max = df.max(axis=1)\n",
    "\n",
    "# assign max of each row to all trunk mutations;\n",
    "# append to df\n",
    "numTrunks = 0\n",
    "for trunk in S2['Gene']:\n",
    "#     print(trunk)\n",
    "#     temp = pandas.DataFrame({'CPXM2': row_max})\n",
    "    df[trunk] = row_max\n",
    "    numTrunks+=1 \n",
    "df.shape"
   ]
  },
  {
   "cell_type": "markdown",
   "metadata": {},
   "source": [
    "### Getting the phylogeny tree \n",
    "\n",
    "* Matrix F has been computed, and processed above. "
   ]
  },
  {
   "cell_type": "code",
   "execution_count": 21,
   "metadata": {},
   "outputs": [],
   "source": [
    "#     ('Normal'): ['CPXM2', 'UBR4', 'SLC30A2', 'TRIM63', 'OR4C13', 'NRXN2', 'CLPB', 'DIXDC1', 'TMPRSS13', 'C2CD2L', 'OR8G1', 'FLG', 'AQP10', 'FAM189B', 'CD48', 'TNR', 'LAMC1', 'OBSCN', 'PABPC3', 'OR4K17', 'FUT8', 'RYR3', 'FAH', 'TTC23', 'KIAA0100', 'STXBP4', 'COG1', 'ZNF846', 'ZNF441', 'CD93', 'PPP1R16B', 'ADCY3', 'TTN', 'DNAH7', 'SPHKAP', 'HTR2B', 'PLA2G3', 'TGFBR2', 'DBR1', 'TLR6', 'DCHS2', 'ODZ3', 'ABCC10', 'TFAP2D', 'GJA10', 'AMD1', 'ULBP2', 'SAMD9', 'CCDC136', 'ASPH', 'GRHL2', 'TNFRSF11B', 'FREM1', 'PRUNE2', 'MAPKAP1', 'RALGDS', 'ARAF', 'FN3KRP', 'DOCK3', 'CD1C', 'ITGAX', 'COL11A2', 'SLC24A2', 'SCN4A', 'MYT1L', 'KIAA1731', 'SLC8A3', 'DLX6', 'CERCAM', 'KIAA2022', 'ZFYVE26', 'GPM6A', 'C3orf77', 'ELAC2', 'KIF5C', 'FCHSD1', 'UQCC', 'KIF15', 'LDLRAD1', 'UBE3B', 'TCEB3B', 'CXorf1', 'ADCY2', 'ISCA2', 'NEDD4', 'THSD1', 'ALDH7A1', 'TRPV2', 'HCRTR2', 'TSC1', 'IPO13', 'CASQ2', 'WDR35', 'F13A1', 'ITGB8', 'C7orf46', 'OSBPL6', 'WDR12', 'THOC7', 'PDE1C', 'ATP13A4', 'EIF4G3', 'MPP7', 'CAPN14', 'KLF5', 'GATAD2A', 'SNUPN', 'TRAF6', 'CDH26', 'ZEB2', 'CCDC80', 'USP29', 'GTPBP3', 'FAM181A', 'CD2AP', 'EDDM3B', 'GPR112', 'BEST3', 'FYTTD1', 'MUC4', 'LTBP2', 'CRX', 'PFKFB4', 'PHLDB2', 'AMMECR1L', 'SETD2', 'PIK3CG', 'MLL2', 'MAP3K5', 'PMM1', 'SDK1', 'CGNL1', 'HCN1', 'C3orf58', 'ATP10A', 'PREX1', 'KIAA1841', 'ANO4', 'PDE4DIP', 'SS18L1', 'LRFN5', 'HSPG2', 'ACSS1', 'E2F7', 'SLC6A3', 'AGAP4', 'TSPAN16', 'SMU1', 'ARHGAP21', 'AIM2', 'DNAH10', 'FAM55B', 'GRIN2A', 'ACACA', 'MYO7B', 'GPR144', 'FBXO41', 'DGKD', 'AKTIP', 'THEG', 'SPRYD3', 'C17orf42', 'SNX14', 'TP53', 'PLEKHG2', 'TRAPPC9', 'SYNE1', 'MAMDC4', 'ZAN', 'POMZP3', 'HYDIN', 'NTS', 'CASC1', 'KIAA1804', 'C15orf32', 'CENPF', 'GCNT7', 'RNF213', 'TBC1D5', 'MGAM', 'LRBA', 'CCAR1', 'MYBPC3', 'UBXN4', 'USP33', 'PLEKHA6', 'DEF6', 'ARHGEF12', 'ZFP14', 'AKIRIN1', 'ROD1', 'MAP2', 'DNAH8', 'TTLL3', 'LMX1B', 'TLE1', 'STRA6', 'SSC5D', 'IGF1R', 'UCHL5', 'U2AF1', 'FRMPD1', 'CASC3', 'DSCAM', 'ENPP3', 'COL21A1'],\n",
    "tree = {\n",
    "    ('CPXM2', 'UBR4', 'SLC30A2', 'TRIM63', 'OR4C13', 'NRXN2', 'CLPB', 'DIXDC1', 'TMPRSS13', 'C2CD2L', 'OR8G1', 'FLG', 'AQP10', 'FAM189B', 'CD48', 'TNR', 'LAMC1', 'OBSCN', 'PABPC3', 'OR4K17', 'FUT8', 'RYR3', 'FAH', 'TTC23', 'KIAA0100', 'STXBP4', 'COG1', 'ZNF846', 'ZNF441', 'CD93', 'PPP1R16B', 'ADCY3', 'TTN', 'DNAH7', 'SPHKAP', 'HTR2B', 'PLA2G3', 'TGFBR2', 'DBR1', 'TLR6', 'DCHS2', 'ODZ3', 'ABCC10', 'TFAP2D', 'GJA10', 'AMD1', 'ULBP2', 'SAMD9', 'CCDC136', 'ASPH', 'GRHL2', 'TNFRSF11B', 'FREM1', 'PRUNE2', 'MAPKAP1', 'RALGDS', 'ARAF', 'FN3KRP', 'DOCK3', 'CD1C', 'ITGAX', 'COL11A2', 'SLC24A2', 'SCN4A', 'MYT1L', 'KIAA1731', 'SLC8A3', 'DLX6', 'CERCAM', 'KIAA2022', 'ZFYVE26', 'GPM6A', 'C3orf77', 'ELAC2', 'KIF5C', 'FCHSD1', 'UQCC', 'KIF15', 'LDLRAD1', 'UBE3B', 'TCEB3B', 'CXorf1', 'ADCY2', 'ISCA2', 'NEDD4', 'THSD1', 'ALDH7A1', 'TRPV2', 'HCRTR2', 'TSC1', 'IPO13', 'CASQ2', 'WDR35', 'F13A1', 'ITGB8', 'C7orf46', 'OSBPL6', 'WDR12', 'THOC7', 'PDE1C', 'ATP13A4', 'EIF4G3', 'MPP7', 'CAPN14', 'KLF5', 'GATAD2A', 'SNUPN', 'TRAF6', 'CDH26', 'ZEB2', 'CCDC80', 'USP29', 'GTPBP3', 'FAM181A', 'CD2AP', 'EDDM3B', 'GPR112', 'BEST3', 'FYTTD1', 'MUC4', 'LTBP2', 'CRX', 'PFKFB4', 'PHLDB2', 'AMMECR1L', 'SETD2', 'PIK3CG', 'MLL2', 'MAP3K5', 'PMM1', 'SDK1', 'CGNL1', 'HCN1', 'C3orf58', 'ATP10A', 'PREX1', 'KIAA1841', 'ANO4', 'PDE4DIP', 'SS18L1', 'LRFN5', 'HSPG2', 'ACSS1', 'E2F7', 'SLC6A3', 'AGAP4', 'TSPAN16', 'SMU1', 'ARHGAP21', 'AIM2', 'DNAH10', 'FAM55B', 'GRIN2A', 'ACACA', 'MYO7B', 'GPR144', 'FBXO41', 'DGKD', 'AKTIP', 'THEG', 'SPRYD3', 'C17orf42', 'SNX14', 'TP53', 'PLEKHG2', 'TRAPPC9', 'SYNE1', 'MAMDC4', 'ZAN', 'POMZP3', 'HYDIN', 'NTS', 'CASC1', 'KIAA1804', 'C15orf32', 'CENPF', 'GCNT7', 'RNF213', 'TBC1D5', 'MGAM', 'LRBA', 'CCAR1', 'MYBPC3', 'UBXN4', 'USP33', 'PLEKHA6', 'DEF6', 'ARHGEF12', 'ZFP14', 'AKIRIN1', 'ROD1', 'MAP2', 'DNAH8', 'TTLL3', 'LMX1B', 'TLE1', 'STRA6', 'SSC5D', 'IGF1R', 'UCHL5', 'U2AF1', 'FRMPD1', 'CASC3', 'DSCAM', 'ENPP3', 'COL21A1'): [['MLL','CHUK'], ['GCK'],['KIAA0427','GABRA1'],['A2M'],['RIMS2'],['C15orf42','JAK2'],['MUC16'],['FLNB'],['LRP2']],\n",
    "    ('MLL','CHUK'): [['PPP1R3B'], ['ITGB2']],\n",
    "    ('RIMS2'): [['CACNA1A','MAP4']],\n",
    "    ('C15orf42','JAK2'): [['NACAD','VIPR2'],['DBF4B']],\n",
    "    ('MUC16'): [['ZNF498', 'LRRTM4']],\n",
    "    ('FLNB'): [],\n",
    "    ('LRP2'): [],\n",
    "    ('ZNF498', 'LRRTM4'): [['BAZ1B'], ['CNOT10','PRKAR1B'], ['THRA']],\n",
    "    ('PPP1R3B'): [],\n",
    "    ('ITGB2'): [],\n",
    "    ('GCK'): [],\n",
    "    ('KIAA0427','GABRA1'): [],\n",
    "    ('A2M'): [],\n",
    "    ('CACNA1A','MAP4'): [],\n",
    "    ('NACAD','VIPR2'): [],\n",
    "    ('DBF4B'): [],\n",
    "    ('BAZ1B'): [],\n",
    "    ('CNOT10','PRKAR1B'): [],\n",
    "    ('THRA'): [['PHF19']],\n",
    "    ('PHF19'): [],\n",
    "}"
   ]
  },
  {
   "cell_type": "code",
   "execution_count": 22,
   "metadata": {},
   "outputs": [],
   "source": [
    "geneIndex = {}\n",
    "# TODO: fix later? Root is currently starting at 1 in visualization \n",
    "idx = 0\n",
    "for col in df: \n",
    "    geneIndex[col] = idx\n",
    "    idx += 1"
   ]
  },
  {
   "cell_type": "markdown",
   "metadata": {},
   "source": [
    "## Average mutation clusters\n",
    "* Up until now, we have been working with mutations individually. However, some of them _always_ occur together in our tumor sample. Therefore, they will be combined by taking the average across all mutations in the cluster. \n",
    "* We will do this by traversing the `tree`, and averaging values in the nodes if it is > 1.  "
   ]
  },
  {
   "cell_type": "code",
   "execution_count": 23,
   "metadata": {},
   "outputs": [],
   "source": [
    "averageDf = pandas.DataFrame()\n",
    "averageDfLabels = pandas.DataFrame()\n",
    "# # map pairs to a single column index \n",
    "# fIdx = {}\n",
    "\n",
    "# map column index to gene pairs\n",
    "idxToLabel = {}\n",
    "colIdx = 1\n",
    "for node in tree: \n",
    "    keys = []\n",
    "    label = \"\"\n",
    "    tempDf = pandas.DataFrame()\n",
    "    \n",
    "    # there is a pair \n",
    "    if type(node) == tuple:\n",
    "        tempDf = 0\n",
    "        for i in range(0,len(node)): \n",
    "            mut = node[i]\n",
    "            label += mut + \",\"\n",
    "            keys.append(mut)\n",
    "            tempDf += df[mut]\n",
    "        tempDf /= len(node)\n",
    "        label = label[:-1]\n",
    "        idxToLabel[colIdx] = keys\n",
    "        \n",
    "    else:\n",
    "        tempDf = df[node]\n",
    "        label = node\n",
    "        idxToLabel[colIdx] = [node]\n",
    "    averageDfLabels[label] = tempDf\n",
    "    averageDf[colIdx] = tempDf\n",
    "    colIdx += 1"
   ]
  },
  {
   "cell_type": "code",
   "execution_count": 24,
   "metadata": {},
   "outputs": [],
   "source": [
    "labelToIdx = {}\n",
    "for node in idxToLabel:\n",
    "    labelToIdx[str(idxToLabel[node])] = node"
   ]
  },
  {
   "cell_type": "code",
   "execution_count": 25,
   "metadata": {},
   "outputs": [],
   "source": [
    "newTree = {}\n",
    "for node in tree: \n",
    "    newKey = str(node)\n",
    "    if type(node) == tuple:\n",
    "        newKey = \"[\" + newKey[1:-1] + \"]\"\n",
    "    else:\n",
    "        newKey = \"['\" + newKey + \"']\"\n",
    "    \n",
    "    newKey = labelToIdx[newKey]\n",
    "    newVals = []\n",
    "    for group in tree[node]: \n",
    "\n",
    "        newGroup = str(group)\n",
    "        newVals.append(labelToIdx[newGroup])\n",
    "    newTree[newKey] = newVals"
   ]
  },
  {
   "cell_type": "code",
   "execution_count": 26,
   "metadata": {},
   "outputs": [],
   "source": [
    "jsonTree = {}\n",
    "for node in tree: \n",
    "    key = \"\"\n",
    "    if type(node) == tuple:\n",
    "        for mut in node: \n",
    "            key += mut + \",\"\n",
    "        key = key[:-1]\n",
    "    else:\n",
    "        key = node\n",
    "    jsonTree[key] = tree[node]"
   ]
  },
  {
   "cell_type": "code",
   "execution_count": 27,
   "metadata": {},
   "outputs": [],
   "source": [
    "# this is the numeric phylogeny that we will use in the JSON file for visualization. \n",
    "# this tree agrees with the original PNAS suggested tree. \n",
    "\n",
    "phylogeny = {\"1\": [2, 11, 12, 13, 3, 4, 5, 6, 7],\n",
    "             \"2\": [9, 10],\n",
    "             \"3\": [14],\n",
    "             \"4\": [15, 16],\n",
    "             \"5\": [8],\n",
    "             \"6\": [],\n",
    "             \"7\": [],\n",
    "             \"8\": [17, 18, 19],\n",
    "             \"9\": [],\n",
    "             \"10\": [],\n",
    "             \"11\": [],\n",
    "             \"12\": [],\n",
    "             \"13\": [],\n",
    "             \"14\": [],\n",
    "             \"15\": [],\n",
    "             \"16\": [],\n",
    "             \"17\": [],\n",
    "             \"18\": [],\n",
    "             \"19\": [20],\n",
    "             \"20\": []\n",
    "      }"
   ]
  },
  {
   "cell_type": "code",
   "execution_count": 28,
   "metadata": {},
   "outputs": [],
   "source": [
    "idxTree = {}\n",
    "for key in phylogeny:\n",
    "    newVals = []\n",
    "    for vals in phylogeny[key]:\n",
    "        newVals.append(int(vals)-1)\n",
    "    idxTree[int(key)-1] = newVals"
   ]
  },
  {
   "cell_type": "code",
   "execution_count": 29,
   "metadata": {},
   "outputs": [
    {
     "data": {
      "text/html": [
       "<div>\n",
       "<style scoped>\n",
       "    .dataframe tbody tr th:only-of-type {\n",
       "        vertical-align: middle;\n",
       "    }\n",
       "\n",
       "    .dataframe tbody tr th {\n",
       "        vertical-align: top;\n",
       "    }\n",
       "\n",
       "    .dataframe thead th {\n",
       "        text-align: right;\n",
       "    }\n",
       "</style>\n",
       "<table border=\"1\" class=\"dataframe\">\n",
       "  <thead>\n",
       "    <tr style=\"text-align: right;\">\n",
       "      <th></th>\n",
       "      <th>CPXM2,UBR4,SLC30A2,TRIM63,OR4C13,NRXN2,CLPB,DIXDC1,TMPRSS13,C2CD2L,OR8G1,FLG,AQP10,FAM189B,CD48,TNR,LAMC1,OBSCN,PABPC3,OR4K17,FUT8,RYR3,FAH,TTC23,KIAA0100,STXBP4,COG1,ZNF846,ZNF441,CD93,PPP1R16B,ADCY3,TTN,DNAH7,SPHKAP,HTR2B,PLA2G3,TGFBR2,DBR1,TLR6,DCHS2,ODZ3,ABCC10,TFAP2D,GJA10,AMD1,ULBP2,SAMD9,CCDC136,ASPH,GRHL2,TNFRSF11B,FREM1,PRUNE2,MAPKAP1,RALGDS,ARAF,FN3KRP,DOCK3,CD1C,ITGAX,COL11A2,SLC24A2,SCN4A,MYT1L,KIAA1731,SLC8A3,DLX6,CERCAM,KIAA2022,ZFYVE26,GPM6A,C3orf77,ELAC2,KIF5C,FCHSD1,UQCC,KIF15,LDLRAD1,UBE3B,TCEB3B,CXorf1,ADCY2,ISCA2,NEDD4,THSD1,ALDH7A1,TRPV2,HCRTR2,TSC1,IPO13,CASQ2,WDR35,F13A1,ITGB8,C7orf46,OSBPL6,WDR12,THOC7,PDE1C,ATP13A4,EIF4G3,MPP7,CAPN14,KLF5,GATAD2A,SNUPN,TRAF6,CDH26,ZEB2,CCDC80,USP29,GTPBP3,FAM181A,CD2AP,EDDM3B,GPR112,BEST3,FYTTD1,MUC4,LTBP2,CRX,PFKFB4,PHLDB2,AMMECR1L,SETD2,PIK3CG,MLL2,MAP3K5,PMM1,SDK1,CGNL1,HCN1,C3orf58,ATP10A,PREX1,KIAA1841,ANO4,PDE4DIP,SS18L1,LRFN5,HSPG2,ACSS1,E2F7,SLC6A3,AGAP4,TSPAN16,SMU1,ARHGAP21,AIM2,DNAH10,FAM55B,GRIN2A,ACACA,MYO7B,GPR144,FBXO41,DGKD,AKTIP,THEG,SPRYD3,C17orf42,SNX14,TP53,PLEKHG2,TRAPPC9,SYNE1,MAMDC4,ZAN,POMZP3,HYDIN,NTS,CASC1,KIAA1804,C15orf32,CENPF,GCNT7,RNF213,TBC1D5,MGAM,LRBA,CCAR1,MYBPC3,UBXN4,USP33,PLEKHA6,DEF6,ARHGEF12,ZFP14,AKIRIN1,ROD1,MAP2,DNAH8,TTLL3,LMX1B,TLE1,STRA6,SSC5D,IGF1R,UCHL5,U2AF1,FRMPD1,CASC3,DSCAM,ENPP3,COL21A1</th>\n",
       "      <th>MLL,CHUK</th>\n",
       "      <th>RIMS2</th>\n",
       "      <th>C15orf42,JAK2</th>\n",
       "      <th>MUC16</th>\n",
       "      <th>FLNB</th>\n",
       "      <th>LRP2</th>\n",
       "      <th>ZNF498,LRRTM4</th>\n",
       "      <th>PPP1R3B</th>\n",
       "      <th>ITGB2</th>\n",
       "      <th>GCK</th>\n",
       "      <th>KIAA0427,GABRA1</th>\n",
       "      <th>A2M</th>\n",
       "      <th>CACNA1A,MAP4</th>\n",
       "      <th>NACAD,VIPR2</th>\n",
       "      <th>DBF4B</th>\n",
       "      <th>BAZ1B</th>\n",
       "      <th>CNOT10,PRKAR1B</th>\n",
       "      <th>THRA</th>\n",
       "      <th>PHF19</th>\n",
       "    </tr>\n",
       "  </thead>\n",
       "  <tbody>\n",
       "    <tr>\n",
       "      <th>Interpolated</th>\n",
       "      <td>0.0</td>\n",
       "      <td>0.0</td>\n",
       "      <td>0.0</td>\n",
       "      <td>0.0</td>\n",
       "      <td>0.0</td>\n",
       "      <td>0.0</td>\n",
       "      <td>0.0</td>\n",
       "      <td>0.0</td>\n",
       "      <td>0.0</td>\n",
       "      <td>0.0</td>\n",
       "      <td>0.0</td>\n",
       "      <td>0.0</td>\n",
       "      <td>0.0</td>\n",
       "      <td>0.0</td>\n",
       "      <td>0.0</td>\n",
       "      <td>0.0</td>\n",
       "      <td>0.0</td>\n",
       "      <td>0.0</td>\n",
       "      <td>0.0</td>\n",
       "      <td>0.0</td>\n",
       "    </tr>\n",
       "    <tr>\n",
       "      <th>Interpolated</th>\n",
       "      <td>0.0</td>\n",
       "      <td>0.0</td>\n",
       "      <td>0.0</td>\n",
       "      <td>0.0</td>\n",
       "      <td>0.0</td>\n",
       "      <td>0.0</td>\n",
       "      <td>0.0</td>\n",
       "      <td>0.0</td>\n",
       "      <td>0.0</td>\n",
       "      <td>0.0</td>\n",
       "      <td>0.0</td>\n",
       "      <td>0.0</td>\n",
       "      <td>0.0</td>\n",
       "      <td>0.0</td>\n",
       "      <td>0.0</td>\n",
       "      <td>0.0</td>\n",
       "      <td>0.0</td>\n",
       "      <td>0.0</td>\n",
       "      <td>0.0</td>\n",
       "      <td>0.0</td>\n",
       "    </tr>\n",
       "    <tr>\n",
       "      <th>Interpolated</th>\n",
       "      <td>0.0</td>\n",
       "      <td>0.0</td>\n",
       "      <td>0.0</td>\n",
       "      <td>0.0</td>\n",
       "      <td>0.0</td>\n",
       "      <td>0.0</td>\n",
       "      <td>0.0</td>\n",
       "      <td>0.0</td>\n",
       "      <td>0.0</td>\n",
       "      <td>0.0</td>\n",
       "      <td>0.0</td>\n",
       "      <td>0.0</td>\n",
       "      <td>0.0</td>\n",
       "      <td>0.0</td>\n",
       "      <td>0.0</td>\n",
       "      <td>0.0</td>\n",
       "      <td>0.0</td>\n",
       "      <td>0.0</td>\n",
       "      <td>0.0</td>\n",
       "      <td>0.0</td>\n",
       "    </tr>\n",
       "    <tr>\n",
       "      <th>Interpolated</th>\n",
       "      <td>0.0</td>\n",
       "      <td>0.0</td>\n",
       "      <td>0.0</td>\n",
       "      <td>0.0</td>\n",
       "      <td>0.0</td>\n",
       "      <td>0.0</td>\n",
       "      <td>0.0</td>\n",
       "      <td>0.0</td>\n",
       "      <td>0.0</td>\n",
       "      <td>0.0</td>\n",
       "      <td>0.0</td>\n",
       "      <td>0.0</td>\n",
       "      <td>0.0</td>\n",
       "      <td>0.0</td>\n",
       "      <td>0.0</td>\n",
       "      <td>0.0</td>\n",
       "      <td>0.0</td>\n",
       "      <td>0.0</td>\n",
       "      <td>0.0</td>\n",
       "      <td>0.0</td>\n",
       "    </tr>\n",
       "    <tr>\n",
       "      <th>Interpolated</th>\n",
       "      <td>0.0</td>\n",
       "      <td>0.0</td>\n",
       "      <td>0.0</td>\n",
       "      <td>0.0</td>\n",
       "      <td>0.0</td>\n",
       "      <td>0.0</td>\n",
       "      <td>0.0</td>\n",
       "      <td>0.0</td>\n",
       "      <td>0.0</td>\n",
       "      <td>0.0</td>\n",
       "      <td>0.0</td>\n",
       "      <td>0.0</td>\n",
       "      <td>0.0</td>\n",
       "      <td>0.0</td>\n",
       "      <td>0.0</td>\n",
       "      <td>0.0</td>\n",
       "      <td>0.0</td>\n",
       "      <td>0.0</td>\n",
       "      <td>0.0</td>\n",
       "      <td>0.0</td>\n",
       "    </tr>\n",
       "  </tbody>\n",
       "</table>\n",
       "</div>"
      ],
      "text/plain": [
       "              CPXM2,UBR4,SLC30A2,TRIM63,OR4C13,NRXN2,CLPB,DIXDC1,TMPRSS13,C2CD2L,OR8G1,FLG,AQP10,FAM189B,CD48,TNR,LAMC1,OBSCN,PABPC3,OR4K17,FUT8,RYR3,FAH,TTC23,KIAA0100,STXBP4,COG1,ZNF846,ZNF441,CD93,PPP1R16B,ADCY3,TTN,DNAH7,SPHKAP,HTR2B,PLA2G3,TGFBR2,DBR1,TLR6,DCHS2,ODZ3,ABCC10,TFAP2D,GJA10,AMD1,ULBP2,SAMD9,CCDC136,ASPH,GRHL2,TNFRSF11B,FREM1,PRUNE2,MAPKAP1,RALGDS,ARAF,FN3KRP,DOCK3,CD1C,ITGAX,COL11A2,SLC24A2,SCN4A,MYT1L,KIAA1731,SLC8A3,DLX6,CERCAM,KIAA2022,ZFYVE26,GPM6A,C3orf77,ELAC2,KIF5C,FCHSD1,UQCC,KIF15,LDLRAD1,UBE3B,TCEB3B,CXorf1,ADCY2,ISCA2,NEDD4,THSD1,ALDH7A1,TRPV2,HCRTR2,TSC1,IPO13,CASQ2,WDR35,F13A1,ITGB8,C7orf46,OSBPL6,WDR12,THOC7,PDE1C,ATP13A4,EIF4G3,MPP7,CAPN14,KLF5,GATAD2A,SNUPN,TRAF6,CDH26,ZEB2,CCDC80,USP29,GTPBP3,FAM181A,CD2AP,EDDM3B,GPR112,BEST3,FYTTD1,MUC4,LTBP2,CRX,PFKFB4,PHLDB2,AMMECR1L,SETD2,PIK3CG,MLL2,MAP3K5,PMM1,SDK1,CGNL1,HCN1,C3orf58,ATP10A,PREX1,KIAA1841,ANO4,PDE4DIP,SS18L1,LRFN5,HSPG2,ACSS1,E2F7,SLC6A3,AGAP4,TSPAN16,SMU1,ARHGAP21,AIM2,DNAH10,FAM55B,GRIN2A,ACACA,MYO7B,GPR144,FBXO41,DGKD,AKTIP,THEG,SPRYD3,C17orf42,SNX14,TP53,PLEKHG2,TRAPPC9,SYNE1,MAMDC4,ZAN,POMZP3,HYDIN,NTS,CASC1,KIAA1804,C15orf32,CENPF,GCNT7,RNF213,TBC1D5,MGAM,LRBA,CCAR1,MYBPC3,UBXN4,USP33,PLEKHA6,DEF6,ARHGEF12,ZFP14,AKIRIN1,ROD1,MAP2,DNAH8,TTLL3,LMX1B,TLE1,STRA6,SSC5D,IGF1R,UCHL5,U2AF1,FRMPD1,CASC3,DSCAM,ENPP3,COL21A1  \\\n",
       "Interpolated                                                0.0                                                                                                                                                                                                                                                                                                                                                                                                                                                                                                                                                                                                                                                                                                                                                                                                                                                                                                                                                                                                                                                                                                                                                                                                                                                                                                                       \n",
       "Interpolated                                                0.0                                                                                                                                                                                                                                                                                                                                                                                                                                                                                                                                                                                                                                                                                                                                                                                                                                                                                                                                                                                                                                                                                                                                                                                                                                                                                                                       \n",
       "Interpolated                                                0.0                                                                                                                                                                                                                                                                                                                                                                                                                                                                                                                                                                                                                                                                                                                                                                                                                                                                                                                                                                                                                                                                                                                                                                                                                                                                                                                       \n",
       "Interpolated                                                0.0                                                                                                                                                                                                                                                                                                                                                                                                                                                                                                                                                                                                                                                                                                                                                                                                                                                                                                                                                                                                                                                                                                                                                                                                                                                                                                                       \n",
       "Interpolated                                                0.0                                                                                                                                                                                                                                                                                                                                                                                                                                                                                                                                                                                                                                                                                                                                                                                                                                                                                                                                                                                                                                                                                                                                                                                                                                                                                                                       \n",
       "\n",
       "              MLL,CHUK  RIMS2  C15orf42,JAK2  MUC16  FLNB  LRP2  \\\n",
       "Interpolated       0.0    0.0            0.0    0.0   0.0   0.0   \n",
       "Interpolated       0.0    0.0            0.0    0.0   0.0   0.0   \n",
       "Interpolated       0.0    0.0            0.0    0.0   0.0   0.0   \n",
       "Interpolated       0.0    0.0            0.0    0.0   0.0   0.0   \n",
       "Interpolated       0.0    0.0            0.0    0.0   0.0   0.0   \n",
       "\n",
       "              ZNF498,LRRTM4  PPP1R3B  ITGB2  GCK  KIAA0427,GABRA1  A2M  \\\n",
       "Interpolated            0.0      0.0    0.0  0.0              0.0  0.0   \n",
       "Interpolated            0.0      0.0    0.0  0.0              0.0  0.0   \n",
       "Interpolated            0.0      0.0    0.0  0.0              0.0  0.0   \n",
       "Interpolated            0.0      0.0    0.0  0.0              0.0  0.0   \n",
       "Interpolated            0.0      0.0    0.0  0.0              0.0  0.0   \n",
       "\n",
       "              CACNA1A,MAP4  NACAD,VIPR2  DBF4B  BAZ1B  CNOT10,PRKAR1B  THRA  \\\n",
       "Interpolated           0.0          0.0    0.0    0.0             0.0   0.0   \n",
       "Interpolated           0.0          0.0    0.0    0.0             0.0   0.0   \n",
       "Interpolated           0.0          0.0    0.0    0.0             0.0   0.0   \n",
       "Interpolated           0.0          0.0    0.0    0.0             0.0   0.0   \n",
       "Interpolated           0.0          0.0    0.0    0.0             0.0   0.0   \n",
       "\n",
       "              PHF19  \n",
       "Interpolated    0.0  \n",
       "Interpolated    0.0  \n",
       "Interpolated    0.0  \n",
       "Interpolated    0.0  \n",
       "Interpolated    0.0  "
      ]
     },
     "execution_count": 29,
     "metadata": {},
     "output_type": "execute_result"
    }
   ],
   "source": [
    "averageDfLabels.head()"
   ]
  },
  {
   "cell_type": "code",
   "execution_count": 30,
   "metadata": {},
   "outputs": [
    {
     "data": {
      "text/plain": [
       "D16    0.8629\n",
       "D16    0.8629\n",
       "D16    0.8629\n",
       "D16    0.8629\n",
       "Name: ZNF498,LRRTM4, dtype: float64"
      ]
     },
     "execution_count": 30,
     "metadata": {},
     "output_type": "execute_result"
    }
   ],
   "source": [
    "# Sanity check after averaging mutation clusters:\n",
    "# ZNF498,LRRTM4 at D16 should be: (0.393512*2+0.469388*2)/2 = 0.8629\n",
    "\n",
    "averageDfLabels['ZNF498,LRRTM4']['D16']"
   ]
  },
  {
   "cell_type": "markdown",
   "metadata": {},
   "source": [
    "# Interpolate! \n",
    "* Now, we have NaN values where there is no data from biopsies. \n",
    "* These will interpolate between two nearest known real data points, according to the values locations on the grid. \n",
    "\n",
    "* NOTE: We have manually removed NaN values in 3 clones to reduce some interpolation artifacts. \n",
    "* `['FLNB','NACAD,VIPR2','CACNA1A,MAP4']`"
   ]
  },
  {
   "cell_type": "code",
   "execution_count": 31,
   "metadata": {},
   "outputs": [
    {
     "data": {
      "text/plain": [
       "1848"
      ]
     },
     "execution_count": 31,
     "metadata": {},
     "output_type": "execute_result"
    }
   ],
   "source": [
    "len(averageDfLabels['MLL,CHUK'])"
   ]
  },
  {
   "cell_type": "code",
   "execution_count": 32,
   "metadata": {},
   "outputs": [],
   "source": [
    "s3prime = S3\n",
    "s3prime.columns = s3prime.iloc[0]\n",
    "\n",
    "modTree_labels = {\n",
    "#     ('trunk'): [['MLL','CHUK'], ['GCK'],['KIAA0427','GABRA1'],['A2M'],['RIMS2'],['C15orf42','JAK2'],['MUC16'],['FLNB'],['LRP2']],\n",
    "    ('MLL,CHUK'): [['PPP1R3B'], ['ITGB2']],\n",
    "    ('RIMS2'): [['CACNA1A,MAP4']],\n",
    "    ('C15orf42,JAK2'): [['NACAD,VIPR2'],['DBF4B']],\n",
    "    ('MUC16'): [['ZNF498', 'LRRTM4']],\n",
    "    ('FLNB'): [],\n",
    "    ('LRP2'): [],\n",
    "    ('ZNF498,LRRTM4'): [['BAZ1B'], ['CNOT10,PRKAR1B'], ['THRA']],\n",
    "    ('PPP1R3B'): [],\n",
    "    ('ITGB2'): [],\n",
    "    ('GCK'): [],\n",
    "    ('KIAA0427,GABRA1'): [],\n",
    "    ('A2M'): [],\n",
    "    ('CACNA1A,MAP4'): [],\n",
    "    ('NACAD,VIPR2'): [],\n",
    "    ('DBF4B'): [],\n",
    "    ('BAZ1B'): [],\n",
    "    ('CNOT10,PRKAR1B'): [],\n",
    "    ('THRA'): [['PHF19']],\n",
    "    ('PHF19'): [],\n",
    "}\n",
    "\n",
    "labelToIdx_labels={\"['trunk']\":1,\"['MLL,CHUK']\": 2,\n",
    " \"['RIMS2']\": 3,\n",
    " \"['C15orf42,JAK2']\": 4,\n",
    " \"['MUC16']\": 5,\n",
    " \"['FLNB']\": 6,\n",
    " \"['LRP2']\": 7,\n",
    " \"['ZNF498,LRRTM4']\": 8,\n",
    " \"['PPP1R3B']\": 9,\n",
    " \"['ITGB2']\": 10,\n",
    " \"['GCK']\": 11,\n",
    " \"['KIAA0427,GABRA1']\": 12,\n",
    " \"['A2M']\": 13,\n",
    " \"['CACNA1A,MAP4']\": 14,\n",
    " \"['NACAD,VIPR2']\": 15,\n",
    " \"['DBF4B']\": 16,\n",
    " \"['BAZ1B']\": 17,\n",
    " \"['CNOT10,PRKAR1B']\": 18,\n",
    " \"['THRA']\": 19,\n",
    " \"['PHF19']\": 20}"
   ]
  },
  {
   "cell_type": "code",
   "execution_count": 34,
   "metadata": {
    "scrolled": true
   },
   "outputs": [
    {
     "name": "stderr",
     "output_type": "stream",
     "text": [
      "/usr/local/lib/python3.7/site-packages/pandas/core/ops.py:1649: FutureWarning: elementwise comparison failed; returning scalar instead, but in the future will perform elementwise comparison\n",
      "  result = method(y)\n"
     ]
    },
    {
     "name": "stdout",
     "output_type": "stream",
     "text": [
      "BAZ1B C48\n",
      "BAZ1B C72\n",
      "BAZ1B C72\n",
      "BAZ1B C70\n"
     ]
    }
   ],
   "source": [
    "missing_coords=[]\n",
    "f = np.full((nRows*nCols,len(tree)), np.nan)\n",
    "\n",
    "# Sanity check: to make sure all row names end up with the same values!\n",
    "rowNames=[]\n",
    "\n",
    "biopsy={}\n",
    "for node in modTree_labels:\n",
    "    keys = []\n",
    "    grid = np.full((nRows,nCols), np.nan)\n",
    "    # fill square - circle with 0's for interpolation\n",
    "    for row in range(0, len(grid)):\n",
    "        for col in range(0,len(grid[0])):\n",
    "            if(not isInCircle(col,row)):\n",
    "                grid[row][col] = 0.0\n",
    "                \n",
    "    grid[0:5,2:10] = np.nan\n",
    "    \n",
    "    mut = node\n",
    "    keys.append(mut)\n",
    "    for site in samples:\n",
    "        coords = coordinates[site]\n",
    "        for pair in coords:\n",
    "            x = pair[0]\n",
    "            y = pair[1]\n",
    "            val=\"\"\n",
    "            k=str(y)+\"_\"+str(x)\n",
    "            try:\n",
    "                val=averageDfLabels[mut][site]\n",
    "                biopsy[k]=site\n",
    "            except:\n",
    "                # there are 4 sites that get lost when converting to a grid. \n",
    "                # they are the same across all mutations. this is only printed once to reduce clutter\n",
    "                if mut=='BAZ1B':\n",
    "                    print(mut, site)\n",
    "            \n",
    "            try:\n",
    "                if val=='':\n",
    "                    val = 0\n",
    "                val=float(val)\n",
    "            except:\n",
    "                val=float(val.values[0])\n",
    "\n",
    "            grid[y][x]=val\n",
    "\n",
    "    ## MANUAL CODE to limit interpolation for certain clones (due to artifacts)\n",
    "    if mut in ['FLNB','NACAD,VIPR2','CACNA1A,MAP4', 'PPP1R3B', 'A2M']:\n",
    "        grid=np.nan_to_num(grid)\n",
    "\n",
    "    # Pad the borders with 0 for interpolation\n",
    "    grid = np.insert(grid, 0, values=np.zeros(nCols), axis=0)\n",
    "    grid = np.insert(grid, len(grid), values = np.zeros(nCols), axis=0)\n",
    "    grid = np.insert(grid, 0, values = np.zeros(nRows+2), axis=1)\n",
    "    grid = np.insert(grid, len(grid[0]), values = np.zeros(nRows+2), axis=1)\n",
    "    df = pandas.DataFrame(grid)\n",
    "    \n",
    "    row = df.interpolate(method='linear', limit_direction='both', axis=1)\n",
    "    col = df.interpolate(method='linear', limit_direction='both', axis=0)\n",
    "    avg = (row + col) / 2\n",
    "    \n",
    "    interpolated = np.array(avg)\n",
    "    \n",
    "    temp_rownames=np.full((nRows*nCols), \"Interpolated\")\n",
    "    # ROW-MAJOR \n",
    "    # add excluding the 0 borders \n",
    "    for row in range(1, len(interpolated)-1):\n",
    "        for col in range(1, len(interpolated[0])-1):\n",
    "            rowIdx = (col-1) + ((row-1)*(nCols))\n",
    "            k=str(row-1)+\"_\"+str(col-1)\n",
    "            f[rowIdx][labelToIdx_labels[str(keys)]-1] = interpolated[row][col]\n",
    "            try:\n",
    "                temp_rownames[rowIdx]=biopsy[k]\n",
    "            except:\n",
    "                # interpolated; no need for label\n",
    "                pass\n",
    "    rowNames.append(temp_rownames)"
   ]
  },
  {
   "cell_type": "code",
   "execution_count": 35,
   "metadata": {},
   "outputs": [],
   "source": [
    "ff=pandas.DataFrame(f)"
   ]
  },
  {
   "cell_type": "markdown",
   "metadata": {},
   "source": [
    "## Rename matrix\n",
    "\n",
    "Also set the root equal to the max of each row. "
   ]
  },
  {
   "cell_type": "code",
   "execution_count": 36,
   "metadata": {
    "scrolled": true
   },
   "outputs": [],
   "source": [
    "for idx in range(1,len(rowNames)):\n",
    "    if not (rowNames[idx]==rowNames[idx-1]).all():\n",
    "        print(str(idx), str(idx-1), \" Indices do not match! \")"
   ]
  },
  {
   "cell_type": "code",
   "execution_count": 37,
   "metadata": {},
   "outputs": [],
   "source": [
    "for row in ff.index:\n",
    "    if rowNames[0][row] != \"None\":\n",
    "        ff = ff.rename(index={row: rowNames[0][row]})"
   ]
  },
  {
   "cell_type": "code",
   "execution_count": 38,
   "metadata": {},
   "outputs": [],
   "source": [
    "# set root to max of each row\n",
    "ff[0]=ff.max(axis=1)"
   ]
  },
  {
   "cell_type": "code",
   "execution_count": 39,
   "metadata": {},
   "outputs": [
    {
     "data": {
      "text/html": [
       "<div>\n",
       "<style scoped>\n",
       "    .dataframe tbody tr th:only-of-type {\n",
       "        vertical-align: middle;\n",
       "    }\n",
       "\n",
       "    .dataframe tbody tr th {\n",
       "        vertical-align: top;\n",
       "    }\n",
       "\n",
       "    .dataframe thead th {\n",
       "        text-align: right;\n",
       "    }\n",
       "</style>\n",
       "<table border=\"1\" class=\"dataframe\">\n",
       "  <thead>\n",
       "    <tr style=\"text-align: right;\">\n",
       "      <th></th>\n",
       "      <th>0</th>\n",
       "      <th>1</th>\n",
       "      <th>2</th>\n",
       "      <th>3</th>\n",
       "      <th>4</th>\n",
       "      <th>5</th>\n",
       "      <th>6</th>\n",
       "      <th>7</th>\n",
       "      <th>8</th>\n",
       "      <th>9</th>\n",
       "      <th>10</th>\n",
       "      <th>11</th>\n",
       "      <th>12</th>\n",
       "      <th>13</th>\n",
       "      <th>14</th>\n",
       "      <th>15</th>\n",
       "      <th>16</th>\n",
       "      <th>17</th>\n",
       "      <th>18</th>\n",
       "      <th>19</th>\n",
       "    </tr>\n",
       "  </thead>\n",
       "  <tbody>\n",
       "    <tr>\n",
       "      <th>Interpolated</th>\n",
       "      <td>0.0</td>\n",
       "      <td>0.0</td>\n",
       "      <td>0.0</td>\n",
       "      <td>0.0</td>\n",
       "      <td>0.0</td>\n",
       "      <td>0.0</td>\n",
       "      <td>0.0</td>\n",
       "      <td>0.0</td>\n",
       "      <td>0.0</td>\n",
       "      <td>0.0</td>\n",
       "      <td>0.0</td>\n",
       "      <td>0.0</td>\n",
       "      <td>0.0</td>\n",
       "      <td>0.0</td>\n",
       "      <td>0.0</td>\n",
       "      <td>0.0</td>\n",
       "      <td>0.0</td>\n",
       "      <td>0.0</td>\n",
       "      <td>0.0</td>\n",
       "      <td>0.0</td>\n",
       "    </tr>\n",
       "    <tr>\n",
       "      <th>Interpolated</th>\n",
       "      <td>0.0</td>\n",
       "      <td>0.0</td>\n",
       "      <td>0.0</td>\n",
       "      <td>0.0</td>\n",
       "      <td>0.0</td>\n",
       "      <td>0.0</td>\n",
       "      <td>0.0</td>\n",
       "      <td>0.0</td>\n",
       "      <td>0.0</td>\n",
       "      <td>0.0</td>\n",
       "      <td>0.0</td>\n",
       "      <td>0.0</td>\n",
       "      <td>0.0</td>\n",
       "      <td>0.0</td>\n",
       "      <td>0.0</td>\n",
       "      <td>0.0</td>\n",
       "      <td>0.0</td>\n",
       "      <td>0.0</td>\n",
       "      <td>0.0</td>\n",
       "      <td>0.0</td>\n",
       "    </tr>\n",
       "    <tr>\n",
       "      <th>Interpolated</th>\n",
       "      <td>0.0</td>\n",
       "      <td>0.0</td>\n",
       "      <td>0.0</td>\n",
       "      <td>0.0</td>\n",
       "      <td>0.0</td>\n",
       "      <td>0.0</td>\n",
       "      <td>0.0</td>\n",
       "      <td>0.0</td>\n",
       "      <td>0.0</td>\n",
       "      <td>0.0</td>\n",
       "      <td>0.0</td>\n",
       "      <td>0.0</td>\n",
       "      <td>0.0</td>\n",
       "      <td>0.0</td>\n",
       "      <td>0.0</td>\n",
       "      <td>0.0</td>\n",
       "      <td>0.0</td>\n",
       "      <td>0.0</td>\n",
       "      <td>0.0</td>\n",
       "      <td>0.0</td>\n",
       "    </tr>\n",
       "    <tr>\n",
       "      <th>Interpolated</th>\n",
       "      <td>0.0</td>\n",
       "      <td>0.0</td>\n",
       "      <td>0.0</td>\n",
       "      <td>0.0</td>\n",
       "      <td>0.0</td>\n",
       "      <td>0.0</td>\n",
       "      <td>0.0</td>\n",
       "      <td>0.0</td>\n",
       "      <td>0.0</td>\n",
       "      <td>0.0</td>\n",
       "      <td>0.0</td>\n",
       "      <td>0.0</td>\n",
       "      <td>0.0</td>\n",
       "      <td>0.0</td>\n",
       "      <td>0.0</td>\n",
       "      <td>0.0</td>\n",
       "      <td>0.0</td>\n",
       "      <td>0.0</td>\n",
       "      <td>0.0</td>\n",
       "      <td>0.0</td>\n",
       "    </tr>\n",
       "    <tr>\n",
       "      <th>Interpolated</th>\n",
       "      <td>0.0</td>\n",
       "      <td>0.0</td>\n",
       "      <td>0.0</td>\n",
       "      <td>0.0</td>\n",
       "      <td>0.0</td>\n",
       "      <td>0.0</td>\n",
       "      <td>0.0</td>\n",
       "      <td>0.0</td>\n",
       "      <td>0.0</td>\n",
       "      <td>0.0</td>\n",
       "      <td>0.0</td>\n",
       "      <td>0.0</td>\n",
       "      <td>0.0</td>\n",
       "      <td>0.0</td>\n",
       "      <td>0.0</td>\n",
       "      <td>0.0</td>\n",
       "      <td>0.0</td>\n",
       "      <td>0.0</td>\n",
       "      <td>0.0</td>\n",
       "      <td>0.0</td>\n",
       "    </tr>\n",
       "  </tbody>\n",
       "</table>\n",
       "</div>"
      ],
      "text/plain": [
       "               0    1    2    3    4    5    6    7    8    9    10   11   12  \\\n",
       "Interpolated  0.0  0.0  0.0  0.0  0.0  0.0  0.0  0.0  0.0  0.0  0.0  0.0  0.0   \n",
       "Interpolated  0.0  0.0  0.0  0.0  0.0  0.0  0.0  0.0  0.0  0.0  0.0  0.0  0.0   \n",
       "Interpolated  0.0  0.0  0.0  0.0  0.0  0.0  0.0  0.0  0.0  0.0  0.0  0.0  0.0   \n",
       "Interpolated  0.0  0.0  0.0  0.0  0.0  0.0  0.0  0.0  0.0  0.0  0.0  0.0  0.0   \n",
       "Interpolated  0.0  0.0  0.0  0.0  0.0  0.0  0.0  0.0  0.0  0.0  0.0  0.0  0.0   \n",
       "\n",
       "               13   14   15   16   17   18   19  \n",
       "Interpolated  0.0  0.0  0.0  0.0  0.0  0.0  0.0  \n",
       "Interpolated  0.0  0.0  0.0  0.0  0.0  0.0  0.0  \n",
       "Interpolated  0.0  0.0  0.0  0.0  0.0  0.0  0.0  \n",
       "Interpolated  0.0  0.0  0.0  0.0  0.0  0.0  0.0  \n",
       "Interpolated  0.0  0.0  0.0  0.0  0.0  0.0  0.0  "
      ]
     },
     "execution_count": 39,
     "metadata": {},
     "output_type": "execute_result"
    }
   ],
   "source": [
    "ff.head()"
   ]
  },
  {
   "cell_type": "code",
   "execution_count": 40,
   "metadata": {},
   "outputs": [
    {
     "data": {
      "text/plain": [
       "A2    0.894624\n",
       "A2    0.894624\n",
       "Name: 1, dtype: float64"
      ]
     },
     "execution_count": 40,
     "metadata": {},
     "output_type": "execute_result"
    }
   ],
   "source": [
    "# Sanity check! Index 1 refers to MLL,CHUK. \n",
    "# (0.394624*2 + 1)/2 = 0.894624\n",
    "\n",
    "# Note: MLL value is 1 because the original value of 0.528986 \n",
    "# exceeds 0.5; thus it was capped at 0.5 before being multiplied by 2 \n",
    "\n",
    "ff[1]['A2']"
   ]
  },
  {
   "cell_type": "code",
   "execution_count": 46,
   "metadata": {},
   "outputs": [
    {
     "data": {
      "text/plain": [
       "B5    0.194\n",
       "B5    0.194\n",
       "B5    0.194\n",
       "B5    0.194\n",
       "Name: 8, dtype: float64"
      ]
     },
     "execution_count": 46,
     "metadata": {},
     "output_type": "execute_result"
    }
   ],
   "source": [
    "ff[8]['B5']"
   ]
  },
  {
   "cell_type": "code",
   "execution_count": 44,
   "metadata": {},
   "outputs": [],
   "source": [
    "ff=ff.fillna(0)\n",
    "ff.to_csv('new_fff_ppp.csv')"
   ]
  },
  {
   "cell_type": "markdown",
   "metadata": {},
   "source": [
    "### Follow up with linear program in `Lp.ipynb`\n",
    "* Compute a prevalence matrix U that best explains frequencies F, and is constrained by the original given phylogeny tree. \n",
    "* This ensures that interpolated values do not violate the original tree. "
   ]
  },
  {
   "cell_type": "markdown",
   "metadata": {},
   "source": [
    "# Recreate PNAS figure\n",
    "\n",
    "* `grid_map.csv` is an excel sheet that corresponds to the mapping of the PNAS figure "
   ]
  },
  {
   "cell_type": "code",
   "execution_count": 427,
   "metadata": {},
   "outputs": [],
   "source": [
    "grid_map=pd.read_csv('./grid_map.csv',header=None)\n",
    "grid_map=grid_map.fillna(0)"
   ]
  },
  {
   "cell_type": "code",
   "execution_count": 428,
   "metadata": {},
   "outputs": [],
   "source": [
    "nRows = 41 +1\n",
    "nCols = 43 +1\n",
    "mutations=np.arange(1,8)"
   ]
  },
  {
   "cell_type": "code",
   "execution_count": 429,
   "metadata": {},
   "outputs": [],
   "source": [
    "f = np.full((nRows*nCols,len(mutations)+1), 0.0)"
   ]
  },
  {
   "cell_type": "code",
   "execution_count": 430,
   "metadata": {},
   "outputs": [],
   "source": [
    "def isInCircle(x,y): \n",
    "    # center is (22, 20)\n",
    "    radius = 22\n",
    "    dist = np.sqrt((y - (20+1))**2 + (x - (22+1) )**2 )\n",
    "    return dist < radius"
   ]
  },
  {
   "cell_type": "code",
   "execution_count": 431,
   "metadata": {},
   "outputs": [
    {
     "data": {
      "text/plain": [
       "(1848, 8)"
      ]
     },
     "execution_count": 431,
     "metadata": {},
     "output_type": "execute_result"
    }
   ],
   "source": [
    "f.shape"
   ]
  },
  {
   "cell_type": "code",
   "execution_count": 432,
   "metadata": {},
   "outputs": [],
   "source": [
    "root=0\n",
    "# taken from data_prep.ipynb; how we turn grid into matrix F\n",
    "interpolated=grid_map.values\n",
    "# for each clone...\n",
    "for i in range(1, 8):\n",
    "    for row in range(1, len(interpolated)-1):\n",
    "        for col in range(1, len(interpolated[0])-1):\n",
    "            rowIdx = (col-1) + ((row-1)*(nCols))\n",
    "            \n",
    "            if int(interpolated[row][col])==i and isInCircle(row, col):\n",
    "                f[rowIdx][i] = 0.5\n",
    "                f[rowIdx][root] = 1.0\n",
    "            else:\n",
    "                f[rowIdx][i] = 0.0\n",
    "                \n",
    "            if i==1 and int(interpolated[row][col])==i:\n",
    "                f[rowIdx][i] = 0.5\n",
    "                f[rowIdx][root] = 1.0"
   ]
  },
  {
   "cell_type": "code",
   "execution_count": 433,
   "metadata": {},
   "outputs": [
    {
     "data": {
      "text/plain": [
       "1369.0"
      ]
     },
     "execution_count": 433,
     "metadata": {},
     "output_type": "execute_result"
    }
   ],
   "source": [
    "np.sum(ff[0])"
   ]
  },
  {
   "cell_type": "code",
   "execution_count": 434,
   "metadata": {},
   "outputs": [
    {
     "name": "stdout",
     "output_type": "stream",
     "text": [
      "2696\n"
     ]
    }
   ],
   "source": [
    "count=0\n",
    "for i in f:\n",
    "    for j in i:\n",
    "        if j != 0:\n",
    "            count+=1\n",
    "print(count)"
   ]
  },
  {
   "cell_type": "code",
   "execution_count": 435,
   "metadata": {},
   "outputs": [],
   "source": [
    "ff=pandas.DataFrame(f)"
   ]
  },
  {
   "cell_type": "code",
   "execution_count": 436,
   "metadata": {},
   "outputs": [],
   "source": [
    "ff.to_csv('pnas_grid.csv',index=None)"
   ]
  },
  {
   "cell_type": "markdown",
   "metadata": {},
   "source": [
    "# Misc.\n",
    "\n",
    "This section contains old code\n",
    "\n",
    "* Insert coordinates into matrix F first \n",
    "* Getting x,y,z to work with scipy.interp2d and scipy.griddata "
   ]
  },
  {
   "cell_type": "code",
   "execution_count": null,
   "metadata": {},
   "outputs": [],
   "source": [
    "grid = np.full((nRows,nCols), np.nan)\n",
    "# fill square - circle with 0's for interpolation\n",
    "for row in range(0, len(grid)):\n",
    "    for col in range(0,len(grid[0])):\n",
    "        if(not isInCircle(col,row)):\n",
    "            grid[row][col] = 0.0\n",
    "\n",
    "grid[0:6,2:10] = np.nan\n",
    "\n"
   ]
  },
  {
   "cell_type": "code",
   "execution_count": 357,
   "metadata": {},
   "outputs": [],
   "source": [
    "f = np.full((1763,35), None)\n",
    "nRows = 43\n",
    "nCols = 41\n",
    "\n",
    "for mut in mutations:\n",
    "    for site in samples:\n",
    "        coords = coordinates[site]\n",
    "        for pair in coords:\n",
    "            x = pair[0]\n",
    "            y = pair[1]\n",
    "            rowIdx = x + (y*nCols)\n",
    "#            print(\"X: \" + str(x) + \" Y: \" + str(y) + \" rowIdx: \" + str(rowIdx))\n",
    "            f[rowIdx][mutCol[mut]] = S3[mut][site]"
   ]
  },
  {
   "cell_type": "code",
   "execution_count": 358,
   "metadata": {},
   "outputs": [
    {
     "name": "stdout",
     "output_type": "stream",
     "text": [
      "Row: 195 Col: 5\n",
      "Row: 236 Col: 5\n",
      "Number of None values: 44873\n",
      "Number of real values: 16832\n"
     ]
    }
   ],
   "source": [
    "nones = 0\n",
    "real = 0\n",
    "for row in range(len(f)):\n",
    "    for col in range(len(f[row])):\n",
    "        if f[row][col] == None:\n",
    "            nones+=1\n",
    "        else:\n",
    "#            print (f[row][col])\n",
    "            real +=1\n",
    "        if f[row][col] == 0.517516:\n",
    "            print(\"Row: \" + str(row) + \" Col: \" + str(col))\n",
    "print(\"Number of None values: \" + str(nones))\n",
    "print(\"Number of real values: \" + str(real))"
   ]
  },
  {
   "cell_type": "code",
   "execution_count": null,
   "metadata": {},
   "outputs": [],
   "source": [
    "blank = ['-', 'F', 'P']\n",
    "# x coordinates of real-valued cells \n",
    "x = []\n",
    "# y coordinates of real-valued cells \n",
    "y = []\n",
    "# values of real-valued cells\n",
    "z = []\n",
    "for row in range(len(grid)):\n",
    "    for col in range(len(grid[0])):\n",
    "        freq = grid[row][col]\n",
    "        # if we have a good value, add to x,y,z\n",
    "        if freq not in blank and not np.isnan(freq) :\n",
    "            x.append(row)\n",
    "            y.append(col)\n",
    "            z.append(grid[row][col])\n",
    "            "
   ]
  },
  {
   "cell_type": "code",
   "execution_count": 383,
   "metadata": {},
   "outputs": [
    {
     "data": {
      "text/html": [
       "<div>\n",
       "<style scoped>\n",
       "    .dataframe tbody tr th:only-of-type {\n",
       "        vertical-align: middle;\n",
       "    }\n",
       "\n",
       "    .dataframe tbody tr th {\n",
       "        vertical-align: top;\n",
       "    }\n",
       "\n",
       "    .dataframe thead th {\n",
       "        text-align: right;\n",
       "    }\n",
       "</style>\n",
       "<table border=\"1\" class=\"dataframe\">\n",
       "  <thead>\n",
       "    <tr style=\"text-align: right;\">\n",
       "      <th></th>\n",
       "      <th>a</th>\n",
       "      <th>b</th>\n",
       "      <th>c</th>\n",
       "      <th>d</th>\n",
       "      <th>e</th>\n",
       "    </tr>\n",
       "  </thead>\n",
       "  <tbody>\n",
       "    <tr>\n",
       "      <th>0</th>\n",
       "      <td>0.00</td>\n",
       "      <td>-0.5</td>\n",
       "      <td>-0.5</td>\n",
       "      <td>0.1</td>\n",
       "      <td>0.0</td>\n",
       "    </tr>\n",
       "    <tr>\n",
       "      <th>1</th>\n",
       "      <td>0.25</td>\n",
       "      <td>-1.0</td>\n",
       "      <td>-1.0</td>\n",
       "      <td>-0.4</td>\n",
       "      <td>-0.5</td>\n",
       "    </tr>\n",
       "    <tr>\n",
       "      <th>2</th>\n",
       "      <td>3.00</td>\n",
       "      <td>3.0</td>\n",
       "      <td>-1.0</td>\n",
       "      <td>0.2</td>\n",
       "      <td>0.1</td>\n",
       "    </tr>\n",
       "    <tr>\n",
       "      <th>3</th>\n",
       "      <td>3.50</td>\n",
       "      <td>4.0</td>\n",
       "      <td>-4.0</td>\n",
       "      <td>16.0</td>\n",
       "      <td>8.0</td>\n",
       "    </tr>\n",
       "  </tbody>\n",
       "</table>\n",
       "</div>"
      ],
      "text/plain": [
       "      a    b    c     d    e\n",
       "0  0.00 -0.5 -0.5   0.1  0.0\n",
       "1  0.25 -1.0 -1.0  -0.4 -0.5\n",
       "2  3.00  3.0 -1.0   0.2  0.1\n",
       "3  3.50  4.0 -4.0  16.0  8.0"
      ]
     },
     "execution_count": 383,
     "metadata": {},
     "output_type": "execute_result"
    }
   ],
   "source": [
    "df = pandas.DataFrame(\n",
    "    [(0.0,  np.nan, np.nan, np.nan, 0.0),\n",
    "    (np.nan, -1.0, np.nan, np.nan, np.nan),\n",
    "    (3.0, 3.0, -1.0, 0.2, np.nan),\n",
    "    (np.nan, 4.0, -4.0, 16.0, np.nan)],\n",
    "    columns=list('abcde'))\n",
    "\n",
    "row_interp = df.interpolate(method='linear', limit_direction='both', axis=1)\n",
    "col_interp = df.interpolate(method='linear', limit_direction='both', axis=0)\n",
    "(row_interp + col_interp) / 2"
   ]
  },
  {
   "cell_type": "code",
   "execution_count": null,
   "metadata": {},
   "outputs": [],
   "source": [
    "grid = [[0,   0,   0,   0,   0,   0,   0,   0,   0,   0],\n",
    "        [0,   0,   0,   0,   0, 0.2,   0,   0,   0,   0],\n",
    "        [0,   0,   0,   0, 0.3, 0.5, 0.3,   0,   0,   0],\n",
    "        [0,   0,   0, 0.6, 0.7, 0.4, 0.2, 0.4,   0,   0],\n",
    "        [0,   0, 0.8, 0.5, 0.4, 0.6, 0.2, 0.3, 0.6,   0],\n",
    "        [0,   0, 0.2,   0, 0.3, 0.5, 0.7, 0.5, 0.6,   0],\n",
    "        [0,   0,   0, 0.6, 0.7, 0.4, 0.2, 0.4,   0,   0],\n",
    "        [0,   0,   0,   0, 0.3, 0.5,   0,   0,   0,   0],\n",
    "        [0,   0,   0,   0,   0, 0.2,   0,   0,   0,   0],\n",
    "        [0,   0,   0,   0,   0,   0,   0,   0,   0,   0]]\n",
    "grid = np.asarray(grid, dtype = float) \n",
    "grid.shape"
   ]
  },
  {
   "cell_type": "code",
   "execution_count": 210,
   "metadata": {},
   "outputs": [
    {
     "name": "stdout",
     "output_type": "stream",
     "text": [
      "(42, 44)\n"
     ]
    }
   ],
   "source": [
    "grid = np.full((nRows,nCols), np.nan)\n",
    "print(grid.shape)\n",
    "\n",
    "blank = ['-', 'P', 'F']\n",
    "for site in samples:\n",
    "    coords = coordinates[site]\n",
    "    for pair in coords:\n",
    "        x = pair[0]\n",
    "        y = pair[1]\n",
    "        if(S3['chr11_118375433'][site] in blank):\n",
    "            grid[y][x] = np.nan\n",
    "        else:\n",
    "            grid[y][x] = float(S3['chr11_118375433'][site])\n",
    "        \n",
    "\n",
    "# Pad the borders with 0 for interpolation\n",
    "grid = np.insert(grid, 0, values=np.zeros(nCols), axis=0)\n",
    "grid = np.insert(grid, len(grid), values = np.zeros(nCols), axis=0)\n",
    "grid = np.insert(grid, 0, values = np.zeros(nRows+2), axis=1)\n",
    "grid = np.insert(grid, len(grid[0]), values = np.zeros(nRows+2), axis=1)\n",
    "\n",
    "df = pandas.DataFrame(grid)\n",
    "pandas.set_option('display.max_columns', 1000)\n",
    "\n",
    "#grad.apply(pandas.to_numeric, errors='coerce')\n",
    "#df.to_csv('chr11_118375433.csv', index=True, sep=',', header=True)\n",
    "\n",
    "row = df.interpolate(method='linear', limit_direction='both', axis=1)\n",
    "col = df.interpolate(method='linear', limit_direction='both', axis=0)\n",
    "avg = (row + col) / 2\n",
    "\n",
    "avg.to_csv('chr11_118375433-int.csv', index=True, sep=',', header=True)\n",
    "\n",
    "# add excluding the 0 borders \n",
    "for row in range(1, len(df)-1):\n",
    "    for col in range(1, len(df[0]-1)):\n",
    "        rowIdx = (row-1) + ((col-1)*(nCols-2))\n",
    "        f[rowIdx][mutCol['chr11_118375433']] = avg[row][col]"
   ]
  }
 ],
 "metadata": {
  "kernelspec": {
   "display_name": "Python 3",
   "language": "python",
   "name": "python3"
  },
  "language_info": {
   "codemirror_mode": {
    "name": "ipython",
    "version": 3
   },
   "file_extension": ".py",
   "mimetype": "text/x-python",
   "name": "python",
   "nbconvert_exporter": "python",
   "pygments_lexer": "ipython3",
   "version": "3.7.5"
  }
 },
 "nbformat": 4,
 "nbformat_minor": 2
}
